{
 "cells": [
  {
   "cell_type": "markdown",
   "metadata": {},
   "source": [
    "# Pymaceuticals Inc.\n",
    "---\n",
    "\n",
    "### Analysis\n",
    "\n",
    "- Add your analysis here.\n",
    " "
   ]
  },
  {
   "cell_type": "code",
   "execution_count": 6,
   "metadata": {
    "scrolled": true
   },
   "outputs": [],
   "source": [
    "# Dependencies and Setup\n",
    "import matplotlib.pyplot as plt\n",
    "import pandas as pd\n",
    "import scipy.stats as st\n",
    "\n",
    "# Study data files\n",
    "mouse_metadata_path = \"data/Mouse_metadata.csv\"\n",
    "study_results_path = \"data/Study_results.csv\"\n",
    "\n",
    "# Read the mouse data and the study results\n",
    "mouse_metadata = pd.read_csv(mouse_metadata_path)\n",
    "study_results = pd.read_csv(study_results_path)\n"
   ]
  },
  {
   "cell_type": "code",
   "execution_count": 7,
   "metadata": {},
   "outputs": [
    {
     "data": {
      "text/html": [
       "<div>\n",
       "<style scoped>\n",
       "    .dataframe tbody tr th:only-of-type {\n",
       "        vertical-align: middle;\n",
       "    }\n",
       "\n",
       "    .dataframe tbody tr th {\n",
       "        vertical-align: top;\n",
       "    }\n",
       "\n",
       "    .dataframe thead th {\n",
       "        text-align: right;\n",
       "    }\n",
       "</style>\n",
       "<table border=\"1\" class=\"dataframe\">\n",
       "  <thead>\n",
       "    <tr style=\"text-align: right;\">\n",
       "      <th></th>\n",
       "      <th>Mouse ID</th>\n",
       "      <th>Drug Regimen</th>\n",
       "      <th>Sex</th>\n",
       "      <th>Age_months</th>\n",
       "      <th>Weight (g)</th>\n",
       "    </tr>\n",
       "  </thead>\n",
       "  <tbody>\n",
       "    <tr>\n",
       "      <th>0</th>\n",
       "      <td>k403</td>\n",
       "      <td>Ramicane</td>\n",
       "      <td>Male</td>\n",
       "      <td>21</td>\n",
       "      <td>16</td>\n",
       "    </tr>\n",
       "    <tr>\n",
       "      <th>1</th>\n",
       "      <td>s185</td>\n",
       "      <td>Capomulin</td>\n",
       "      <td>Female</td>\n",
       "      <td>3</td>\n",
       "      <td>17</td>\n",
       "    </tr>\n",
       "    <tr>\n",
       "      <th>2</th>\n",
       "      <td>x401</td>\n",
       "      <td>Capomulin</td>\n",
       "      <td>Female</td>\n",
       "      <td>16</td>\n",
       "      <td>15</td>\n",
       "    </tr>\n",
       "    <tr>\n",
       "      <th>3</th>\n",
       "      <td>m601</td>\n",
       "      <td>Capomulin</td>\n",
       "      <td>Male</td>\n",
       "      <td>22</td>\n",
       "      <td>17</td>\n",
       "    </tr>\n",
       "    <tr>\n",
       "      <th>4</th>\n",
       "      <td>g791</td>\n",
       "      <td>Ramicane</td>\n",
       "      <td>Male</td>\n",
       "      <td>11</td>\n",
       "      <td>16</td>\n",
       "    </tr>\n",
       "  </tbody>\n",
       "</table>\n",
       "</div>"
      ],
      "text/plain": [
       "  Mouse ID Drug Regimen     Sex  Age_months  Weight (g)\n",
       "0     k403     Ramicane    Male          21          16\n",
       "1     s185    Capomulin  Female           3          17\n",
       "2     x401    Capomulin  Female          16          15\n",
       "3     m601    Capomulin    Male          22          17\n",
       "4     g791     Ramicane    Male          11          16"
      ]
     },
     "execution_count": 7,
     "metadata": {},
     "output_type": "execute_result"
    }
   ],
   "source": [
    "#Check headers for both data to see what they contain\n",
    "mouse_metadata.head()"
   ]
  },
  {
   "cell_type": "code",
   "execution_count": 8,
   "metadata": {},
   "outputs": [
    {
     "name": "stdout",
     "output_type": "stream",
     "text": [
      "<class 'pandas.core.frame.DataFrame'>\n",
      "RangeIndex: 249 entries, 0 to 248\n",
      "Data columns (total 5 columns):\n",
      " #   Column        Non-Null Count  Dtype \n",
      "---  ------        --------------  ----- \n",
      " 0   Mouse ID      249 non-null    object\n",
      " 1   Drug Regimen  249 non-null    object\n",
      " 2   Sex           249 non-null    object\n",
      " 3   Age_months    249 non-null    int64 \n",
      " 4   Weight (g)    249 non-null    int64 \n",
      "dtypes: int64(2), object(3)\n",
      "memory usage: 9.9+ KB\n"
     ]
    }
   ],
   "source": [
    "mouse_metadata.info()"
   ]
  },
  {
   "cell_type": "code",
   "execution_count": 9,
   "metadata": {},
   "outputs": [
    {
     "data": {
      "text/html": [
       "<div>\n",
       "<style scoped>\n",
       "    .dataframe tbody tr th:only-of-type {\n",
       "        vertical-align: middle;\n",
       "    }\n",
       "\n",
       "    .dataframe tbody tr th {\n",
       "        vertical-align: top;\n",
       "    }\n",
       "\n",
       "    .dataframe thead th {\n",
       "        text-align: right;\n",
       "    }\n",
       "</style>\n",
       "<table border=\"1\" class=\"dataframe\">\n",
       "  <thead>\n",
       "    <tr style=\"text-align: right;\">\n",
       "      <th></th>\n",
       "      <th>Mouse ID</th>\n",
       "      <th>Timepoint</th>\n",
       "      <th>Tumor Volume (mm3)</th>\n",
       "      <th>Metastatic Sites</th>\n",
       "    </tr>\n",
       "  </thead>\n",
       "  <tbody>\n",
       "    <tr>\n",
       "      <th>0</th>\n",
       "      <td>b128</td>\n",
       "      <td>0</td>\n",
       "      <td>45.0</td>\n",
       "      <td>0</td>\n",
       "    </tr>\n",
       "    <tr>\n",
       "      <th>1</th>\n",
       "      <td>f932</td>\n",
       "      <td>0</td>\n",
       "      <td>45.0</td>\n",
       "      <td>0</td>\n",
       "    </tr>\n",
       "    <tr>\n",
       "      <th>2</th>\n",
       "      <td>g107</td>\n",
       "      <td>0</td>\n",
       "      <td>45.0</td>\n",
       "      <td>0</td>\n",
       "    </tr>\n",
       "    <tr>\n",
       "      <th>3</th>\n",
       "      <td>a457</td>\n",
       "      <td>0</td>\n",
       "      <td>45.0</td>\n",
       "      <td>0</td>\n",
       "    </tr>\n",
       "    <tr>\n",
       "      <th>4</th>\n",
       "      <td>c819</td>\n",
       "      <td>0</td>\n",
       "      <td>45.0</td>\n",
       "      <td>0</td>\n",
       "    </tr>\n",
       "  </tbody>\n",
       "</table>\n",
       "</div>"
      ],
      "text/plain": [
       "  Mouse ID  Timepoint  Tumor Volume (mm3)  Metastatic Sites\n",
       "0     b128          0                45.0                 0\n",
       "1     f932          0                45.0                 0\n",
       "2     g107          0                45.0                 0\n",
       "3     a457          0                45.0                 0\n",
       "4     c819          0                45.0                 0"
      ]
     },
     "execution_count": 9,
     "metadata": {},
     "output_type": "execute_result"
    }
   ],
   "source": [
    "study_results.head()"
   ]
  },
  {
   "cell_type": "code",
   "execution_count": null,
   "metadata": {},
   "outputs": [],
   "source": []
  },
  {
   "cell_type": "code",
   "execution_count": 10,
   "metadata": {},
   "outputs": [
    {
     "data": {
      "text/html": [
       "<div>\n",
       "<style scoped>\n",
       "    .dataframe tbody tr th:only-of-type {\n",
       "        vertical-align: middle;\n",
       "    }\n",
       "\n",
       "    .dataframe tbody tr th {\n",
       "        vertical-align: top;\n",
       "    }\n",
       "\n",
       "    .dataframe thead th {\n",
       "        text-align: right;\n",
       "    }\n",
       "</style>\n",
       "<table border=\"1\" class=\"dataframe\">\n",
       "  <thead>\n",
       "    <tr style=\"text-align: right;\">\n",
       "      <th></th>\n",
       "      <th>Mouse ID</th>\n",
       "      <th>Drug Regimen</th>\n",
       "      <th>Sex</th>\n",
       "      <th>Age_months</th>\n",
       "      <th>Weight (g)</th>\n",
       "      <th>Timepoint</th>\n",
       "      <th>Tumor Volume (mm3)</th>\n",
       "      <th>Metastatic Sites</th>\n",
       "    </tr>\n",
       "  </thead>\n",
       "  <tbody>\n",
       "    <tr>\n",
       "      <th>0</th>\n",
       "      <td>k403</td>\n",
       "      <td>Ramicane</td>\n",
       "      <td>Male</td>\n",
       "      <td>21</td>\n",
       "      <td>16</td>\n",
       "      <td>0</td>\n",
       "      <td>45.000000</td>\n",
       "      <td>0</td>\n",
       "    </tr>\n",
       "    <tr>\n",
       "      <th>1</th>\n",
       "      <td>k403</td>\n",
       "      <td>Ramicane</td>\n",
       "      <td>Male</td>\n",
       "      <td>21</td>\n",
       "      <td>16</td>\n",
       "      <td>5</td>\n",
       "      <td>38.825898</td>\n",
       "      <td>0</td>\n",
       "    </tr>\n",
       "    <tr>\n",
       "      <th>2</th>\n",
       "      <td>k403</td>\n",
       "      <td>Ramicane</td>\n",
       "      <td>Male</td>\n",
       "      <td>21</td>\n",
       "      <td>16</td>\n",
       "      <td>10</td>\n",
       "      <td>35.014271</td>\n",
       "      <td>1</td>\n",
       "    </tr>\n",
       "    <tr>\n",
       "      <th>3</th>\n",
       "      <td>k403</td>\n",
       "      <td>Ramicane</td>\n",
       "      <td>Male</td>\n",
       "      <td>21</td>\n",
       "      <td>16</td>\n",
       "      <td>15</td>\n",
       "      <td>34.223992</td>\n",
       "      <td>1</td>\n",
       "    </tr>\n",
       "    <tr>\n",
       "      <th>4</th>\n",
       "      <td>k403</td>\n",
       "      <td>Ramicane</td>\n",
       "      <td>Male</td>\n",
       "      <td>21</td>\n",
       "      <td>16</td>\n",
       "      <td>20</td>\n",
       "      <td>32.997729</td>\n",
       "      <td>1</td>\n",
       "    </tr>\n",
       "  </tbody>\n",
       "</table>\n",
       "</div>"
      ],
      "text/plain": [
       "  Mouse ID Drug Regimen   Sex  Age_months  Weight (g)  Timepoint  \\\n",
       "0     k403     Ramicane  Male          21          16          0   \n",
       "1     k403     Ramicane  Male          21          16          5   \n",
       "2     k403     Ramicane  Male          21          16         10   \n",
       "3     k403     Ramicane  Male          21          16         15   \n",
       "4     k403     Ramicane  Male          21          16         20   \n",
       "\n",
       "   Tumor Volume (mm3)  Metastatic Sites  \n",
       "0           45.000000                 0  \n",
       "1           38.825898                 0  \n",
       "2           35.014271                 1  \n",
       "3           34.223992                 1  \n",
       "4           32.997729                 1  "
      ]
     },
     "execution_count": 10,
     "metadata": {},
     "output_type": "execute_result"
    }
   ],
   "source": [
    "# Combine the data into a single DataFrame\n",
    "mouse_study = pd.merge(mouse_metadata, study_results, how='outer', on =\"Mouse ID\")\n",
    "# Display the data table for preview\n",
    "mouse_study.head()"
   ]
  },
  {
   "cell_type": "code",
   "execution_count": 11,
   "metadata": {},
   "outputs": [
    {
     "name": "stdout",
     "output_type": "stream",
     "text": [
      "Number of mice: 249\n"
     ]
    }
   ],
   "source": [
    "# Checking the number of mice.\n",
    "mice_number = len(mouse_study[\"Mouse ID\"].unique())\n",
    "print(f\"Number of mice: {mice_number}\")                  "
   ]
  },
  {
   "cell_type": "code",
   "execution_count": 12,
   "metadata": {},
   "outputs": [
    {
     "name": "stdout",
     "output_type": "stream",
     "text": [
      "    Mouse ID Drug Regimen     Sex  Age_months  Weight (g)  Timepoint  \\\n",
      "908     g989     Propriva  Female          21          26          0   \n",
      "909     g989     Propriva  Female          21          26          0   \n",
      "910     g989     Propriva  Female          21          26          5   \n",
      "911     g989     Propriva  Female          21          26          5   \n",
      "912     g989     Propriva  Female          21          26         10   \n",
      "913     g989     Propriva  Female          21          26         10   \n",
      "914     g989     Propriva  Female          21          26         15   \n",
      "915     g989     Propriva  Female          21          26         15   \n",
      "916     g989     Propriva  Female          21          26         20   \n",
      "917     g989     Propriva  Female          21          26         20   \n",
      "\n",
      "     Tumor Volume (mm3)  Metastatic Sites  \n",
      "908           45.000000                 0  \n",
      "909           45.000000                 0  \n",
      "910           48.786801                 0  \n",
      "911           47.570392                 0  \n",
      "912           51.745156                 0  \n",
      "913           49.880528                 0  \n",
      "914           51.325852                 1  \n",
      "915           53.442020                 0  \n",
      "916           55.326122                 1  \n",
      "917           54.657650                 1  \n"
     ]
    }
   ],
   "source": [
    "# Our data should be uniquely identified by Mouse ID and Timepoint\n",
    "# Get the duplicate mice by ID number that shows up for Mouse ID and Timepoint. \n",
    "duplicate_mice = mouse_study[mouse_study.duplicated(subset=['Mouse ID', 'Timepoint'], keep=False)]\n",
    "\n",
    "# Display the duplicate rows\n",
    "print(duplicate_mice)"
   ]
  },
  {
   "cell_type": "code",
   "execution_count": 13,
   "metadata": {},
   "outputs": [
    {
     "name": "stdout",
     "output_type": "stream",
     "text": [
      "Duplicate Mouse IDs: ['g989']\n"
     ]
    }
   ],
   "source": [
    "# Optional: Get all the data for the duplicate mouse ID. \n",
    "duplicate_mouse_ids = duplicate_mice['Mouse ID'].unique()\n",
    "\n",
    "# Display the duplicate mouse IDs\n",
    "print(f\"Duplicate Mouse IDs: {duplicate_mouse_ids}\")\n"
   ]
  },
  {
   "cell_type": "code",
   "execution_count": 14,
   "metadata": {},
   "outputs": [
    {
     "data": {
      "text/html": [
       "<div>\n",
       "<style scoped>\n",
       "    .dataframe tbody tr th:only-of-type {\n",
       "        vertical-align: middle;\n",
       "    }\n",
       "\n",
       "    .dataframe tbody tr th {\n",
       "        vertical-align: top;\n",
       "    }\n",
       "\n",
       "    .dataframe thead th {\n",
       "        text-align: right;\n",
       "    }\n",
       "</style>\n",
       "<table border=\"1\" class=\"dataframe\">\n",
       "  <thead>\n",
       "    <tr style=\"text-align: right;\">\n",
       "      <th></th>\n",
       "      <th>Mouse ID</th>\n",
       "      <th>Drug Regimen</th>\n",
       "      <th>Sex</th>\n",
       "      <th>Age_months</th>\n",
       "      <th>Weight (g)</th>\n",
       "      <th>Timepoint</th>\n",
       "      <th>Tumor Volume (mm3)</th>\n",
       "      <th>Metastatic Sites</th>\n",
       "    </tr>\n",
       "  </thead>\n",
       "  <tbody>\n",
       "    <tr>\n",
       "      <th>0</th>\n",
       "      <td>k403</td>\n",
       "      <td>Ramicane</td>\n",
       "      <td>Male</td>\n",
       "      <td>21</td>\n",
       "      <td>16</td>\n",
       "      <td>0</td>\n",
       "      <td>45.000000</td>\n",
       "      <td>0</td>\n",
       "    </tr>\n",
       "    <tr>\n",
       "      <th>1</th>\n",
       "      <td>k403</td>\n",
       "      <td>Ramicane</td>\n",
       "      <td>Male</td>\n",
       "      <td>21</td>\n",
       "      <td>16</td>\n",
       "      <td>5</td>\n",
       "      <td>38.825898</td>\n",
       "      <td>0</td>\n",
       "    </tr>\n",
       "    <tr>\n",
       "      <th>2</th>\n",
       "      <td>k403</td>\n",
       "      <td>Ramicane</td>\n",
       "      <td>Male</td>\n",
       "      <td>21</td>\n",
       "      <td>16</td>\n",
       "      <td>10</td>\n",
       "      <td>35.014271</td>\n",
       "      <td>1</td>\n",
       "    </tr>\n",
       "    <tr>\n",
       "      <th>3</th>\n",
       "      <td>k403</td>\n",
       "      <td>Ramicane</td>\n",
       "      <td>Male</td>\n",
       "      <td>21</td>\n",
       "      <td>16</td>\n",
       "      <td>15</td>\n",
       "      <td>34.223992</td>\n",
       "      <td>1</td>\n",
       "    </tr>\n",
       "    <tr>\n",
       "      <th>4</th>\n",
       "      <td>k403</td>\n",
       "      <td>Ramicane</td>\n",
       "      <td>Male</td>\n",
       "      <td>21</td>\n",
       "      <td>16</td>\n",
       "      <td>20</td>\n",
       "      <td>32.997729</td>\n",
       "      <td>1</td>\n",
       "    </tr>\n",
       "  </tbody>\n",
       "</table>\n",
       "</div>"
      ],
      "text/plain": [
       "  Mouse ID Drug Regimen   Sex  Age_months  Weight (g)  Timepoint  \\\n",
       "0     k403     Ramicane  Male          21          16          0   \n",
       "1     k403     Ramicane  Male          21          16          5   \n",
       "2     k403     Ramicane  Male          21          16         10   \n",
       "3     k403     Ramicane  Male          21          16         15   \n",
       "4     k403     Ramicane  Male          21          16         20   \n",
       "\n",
       "   Tumor Volume (mm3)  Metastatic Sites  \n",
       "0           45.000000                 0  \n",
       "1           38.825898                 0  \n",
       "2           35.014271                 1  \n",
       "3           34.223992                 1  \n",
       "4           32.997729                 1  "
      ]
     },
     "execution_count": 14,
     "metadata": {},
     "output_type": "execute_result"
    }
   ],
   "source": [
    "# Create a clean DataFrame by dropping the duplicate mouse by its ID.\n",
    "clean_mouse_study = mouse_study[mouse_study['Mouse ID'] != duplicate_mouse_ids[0]]\n",
    "\n",
    "# Display the clean DataFrame\n",
    "clean_mouse_study.head()"
   ]
  },
  {
   "cell_type": "code",
   "execution_count": 15,
   "metadata": {},
   "outputs": [
    {
     "name": "stdout",
     "output_type": "stream",
     "text": [
      "Number of mice: 248\n"
     ]
    }
   ],
   "source": [
    "# Checking the number of mice in the clean DataFrame.\n",
    "mice_number = len(clean_mouse_study[\"Mouse ID\"].unique())\n",
    "print(f\"Number of mice: {mice_number}\")            "
   ]
  },
  {
   "cell_type": "markdown",
   "metadata": {},
   "source": [
    "## Summary Statistics"
   ]
  },
  {
   "cell_type": "code",
   "execution_count": 16,
   "metadata": {},
   "outputs": [
    {
     "name": "stdout",
     "output_type": "stream",
     "text": [
      "  Drug Regimen       Mean     Median   Variance  Standard Deviation       SEM\n",
      "0    Capomulin  40.675741  41.557809  24.947764            4.994774  0.329346\n",
      "1     Ceftamin  52.591172  51.776157  39.290177            6.268188  0.469821\n",
      "2    Infubinol  52.884795  51.820584  43.128684            6.567243  0.492236\n",
      "3     Ketapril  55.235638  53.698743  68.553577            8.279709  0.603860\n",
      "4     Naftisol  54.331565  52.509285  66.173479            8.134708  0.596466\n",
      "5      Placebo  54.033581  52.288934  61.168083            7.821003  0.581331\n",
      "6     Propriva  52.320930  50.446266  43.852013            6.622085  0.544332\n",
      "7     Ramicane  40.216745  40.673236  23.486704            4.846308  0.320955\n",
      "8     Stelasyn  54.233149  52.431737  59.450562            7.710419  0.573111\n",
      "9    Zoniferol  53.236507  51.818479  48.533355            6.966589  0.516398\n"
     ]
    }
   ],
   "source": [
    "# Generate a summary statistics table of mean, median, variance, standard deviation, and SEM of the tumor volume for each\n",
    "# Group by 'Drug Regimen'\n",
    "grouped_data = clean_mouse_study.groupby('Drug Regimen')['Tumor Volume (mm3)']\n",
    "\n",
    "# Calculate mean, median, variance, standard deviation, and SEM\n",
    "mean_tv = grouped_data.mean()\n",
    "median_tv = grouped_data.median()\n",
    "variance_tv = grouped_data.var()\n",
    "std_deviation_tv = grouped_data.std()\n",
    "sem_tv = grouped_data.sem()\n",
    "\n",
    "# Create a summary DataFrame\n",
    "summary_statistics = pd.DataFrame({\n",
    "    'Mean': mean_tv,\n",
    "    'Median': median_tv,\n",
    "    'Variance': variance_tv,\n",
    "    'Standard Deviation': std_deviation_tv,\n",
    "    'SEM': sem_tv\n",
    "}).reset_index()\n",
    "\n",
    "# Display the summary statistics table\n",
    "print(summary_statistics)\n"
   ]
  },
  {
   "cell_type": "markdown",
   "metadata": {},
   "source": [
    "## Bar and Pie Charts"
   ]
  },
  {
   "cell_type": "code",
   "execution_count": 17,
   "metadata": {},
   "outputs": [
    {
     "data": {
      "image/png": "[encoded data removed]",
      "text/plain": [
       "<Figure size 600x500 with 1 Axes>"
      ]
     },
     "metadata": {},
     "output_type": "display_data"
    }
   ],
   "source": [
    "# Generate a bar plot showing the total number of rows (Mouse ID/Timepoints) for each drug regimen using Pandas.\n",
    "\n",
    "# Group by 'Drug Regimen' and count the number of rows\n",
    "drug_regimen = clean_mouse_study['Drug Regimen'].value_counts()\n",
    "\n",
    "# Create a bar plot\n",
    "drug_regimen.plot(kind='bar', color='blue', alpha=0.7, figsize=(6,5))\n",
    "\n",
    "# Set plot labels and titleplt.title('Total Number of Rows (Mouse ID/Timepoints)for Each Drug Regimen')\n",
    "plt.xlabel('Drug Regimen')\n",
    "plt.ylabel('Of Observed Mouse Timepoints')\n",
    "\n",
    "# Display the plot\n",
    "plt.show()"
   ]
  },
  {
   "cell_type": "code",
   "execution_count": 18,
   "metadata": {},
   "outputs": [
    {
     "data": {
      "image/png": "[encoded data removed]",
      "text/plain": [
       "<Figure size 640x480 with 1 Axes>"
      ]
     },
     "metadata": {},
     "output_type": "display_data"
    }
   ],
   "source": [
    "# Generate a bar plot showing the total number of rows (Mouse ID/Timepoints) for each drug regimen using pyplot.\n",
    "# Group by 'Drug Regimen' and count the number of rows\n",
    "regimen_counts = clean_mouse_study['Drug Regimen'].value_counts()\n",
    "\n",
    "# Create a bar plot using pyplot\n",
    "plt.bar(regimen_counts.index, regimen_counts, color='blue', alpha=0.7)\n",
    "\n",
    "# Set plot labels and title\n",
    "plt.xlabel('Drug Regimen')\n",
    "plt.ylabel('of Observed Mouse Timepoints')\n",
    "\n",
    "# Rotate x-axis labels for better readability\n",
    "plt.xticks(rotation=90, ha='right')\n",
    "\n",
    "# Display the plot\n",
    "plt.show()\n"
   ]
  },
  {
   "cell_type": "code",
   "execution_count": 19,
   "metadata": {},
   "outputs": [
    {
     "data": {
      "image/png": "[encoded data removed]",
      "text/plain": [
       "<Figure size 500x500 with 1 Axes>"
      ]
     },
     "metadata": {},
     "output_type": "display_data"
    }
   ],
   "source": [
    "# Generate a pie plot showing the distribution of female versus male mice using Pandas\n",
    "\n",
    "# Group by 'Sex' and count the number of mice for each sex\n",
    "gender_distrubution = clean_mouse_study['Sex'].value_counts()\n",
    "\n",
    "# Create a bar plot\n",
    "gender_distrubution.plot(kind='pie', autopct='%1.1f%%', colors=['blue','coral'], startangle=0, figsize=(5,5))\n",
    "\n",
    "# Set plot labels and titleplt.title('Total Number of Rows (Mouse ID/Timepoints)for Each Drug Regimen')\n",
    "plt.title('Distribution of Female vs. Male Mice')\n",
    "plt.ylabel('Sex')\n",
    "\n",
    "# Display the plot\n",
    "plt.show()\n"
   ]
  },
  {
   "cell_type": "code",
   "execution_count": 20,
   "metadata": {},
   "outputs": [
    {
     "data": {
      "image/png": "[encoded data removed]",
      "text/plain": [
       "<Figure size 500x500 with 1 Axes>"
      ]
     },
     "metadata": {},
     "output_type": "display_data"
    }
   ],
   "source": [
    "# Generate a pie plot showing the d\n",
    "# Group by 'Sex' and count the number of mice for each sex\n",
    "gender_distribution = clean_mouse_study['Sex'].value_counts()\n",
    "\n",
    "# Create a pie plot using pyplot\n",
    "plt.figure(figsize=(5, 5))\n",
    "plt.pie(gender_distribution, labels=gender_distribution.index, autopct='%1.1f%%', colors=['blue', 'coral'], startangle=0)\n",
    "\n",
    "# Set plot title\n",
    "plt.title('Distribution of Female vs. Male Mice')\n",
    "plt.ylabel('Sex')\n",
    "\n",
    "# Display the plot\n",
    "plt.show()\n"
   ]
  },
  {
   "cell_type": "markdown",
   "metadata": {},
   "source": [
    "## Quartiles, Outliers and Boxplots"
   ]
  },
  {
   "cell_type": "code",
   "execution_count": 21,
   "metadata": {},
   "outputs": [
    {
     "name": "stdout",
     "output_type": "stream",
     "text": [
      "Mouse ID\n",
      "a203    45\n",
      "a251    45\n",
      "a262    45\n",
      "a275    45\n",
      "a366    30\n",
      "        ..\n",
      "z435    10\n",
      "z578    45\n",
      "z581    45\n",
      "z795    45\n",
      "z969    45\n",
      "Name: Timepoint, Length: 248, dtype: int64\n"
     ]
    }
   ],
   "source": [
    "# Find the greatest timepoint for each mouse\n",
    "max_timepoints = clean_mouse_study.groupby('Mouse ID')['Timepoint'].max()\n",
    "\n",
    "print(max_timepoints)"
   ]
  },
  {
   "cell_type": "code",
   "execution_count": 22,
   "metadata": {},
   "outputs": [
    {
     "name": "stdout",
     "output_type": "stream",
     "text": [
      "    Mouse ID  Timepoint Drug Regimen     Sex  Age_months  Weight (g)  \\\n",
      "0       a203         45    Infubinol  Female          20          23   \n",
      "1       a251         45    Infubinol  Female          21          25   \n",
      "2       a262         45      Placebo  Female          17          29   \n",
      "3       a275         45     Ceftamin  Female          20          28   \n",
      "4       a366         30     Stelasyn  Female          16          29   \n",
      "..       ...        ...          ...     ...         ...         ...   \n",
      "243     z435         10     Propriva  Female          12          26   \n",
      "244     z578         45     Ramicane    Male          11          16   \n",
      "245     z581         45    Infubinol  Female          24          25   \n",
      "246     z795         45     Naftisol  Female          13          29   \n",
      "247     z969         45     Naftisol    Male           9          30   \n",
      "\n",
      "     Tumor Volume (mm3)  Metastatic Sites  \n",
      "0             67.973419                 2  \n",
      "1             65.525743                 1  \n",
      "2             70.717621                 4  \n",
      "3             62.999356                 3  \n",
      "4             63.440686                 1  \n",
      "..                  ...               ...  \n",
      "243           48.710661                 0  \n",
      "244           30.638696                 0  \n",
      "245           62.754451                 3  \n",
      "246           65.741070                 3  \n",
      "247           73.867845                 4  \n",
      "\n",
      "[248 rows x 8 columns]\n"
     ]
    }
   ],
   "source": [
    "# Merge the group df with the original DataFrame to get the tumor volume at the last timepoint\n",
    "treatments_regimen_df = pd.merge(max_timepoints, clean_mouse_study, on=[\"Mouse ID\", \"Timepoint\"])\n",
    "\n",
    "# Display the data table for preview\n",
    "print(treatments_regimen_df)"
   ]
  },
  {
   "cell_type": "code",
   "execution_count": 23,
   "metadata": {},
   "outputs": [
    {
     "name": "stdout",
     "output_type": "stream",
     "text": [
      "\n",
      "Treatment: Capomulin\n",
      "IQR: 7.781863460000004\n",
      "Potential Outliers:\n",
      "Empty DataFrame\n",
      "Columns: [Mouse ID, Timepoint, Drug Regimen, Sex, Age_months, Weight (g), Tumor Volume (mm3), Metastatic Sites]\n",
      "Index: []\n",
      "\n",
      "Treatment: Ramicane\n",
      "IQR: 9.098536719999998\n",
      "Potential Outliers:\n",
      "Empty DataFrame\n",
      "Columns: [Mouse ID, Timepoint, Drug Regimen, Sex, Age_months, Weight (g), Tumor Volume (mm3), Metastatic Sites]\n",
      "Index: []\n",
      "\n",
      "Treatment: Infubinol\n",
      "IQR: 11.477135160000003\n",
      "Potential Outliers:\n",
      "   Mouse ID  Timepoint Drug Regimen     Sex  Age_months  Weight (g)  \\\n",
      "31     c326          5    Infubinol  Female          18          25   \n",
      "\n",
      "    Tumor Volume (mm3)  Metastatic Sites  \n",
      "31           36.321346                 0  \n",
      "\n",
      "Treatment: Ceftamin\n",
      "IQR: 15.577752179999997\n",
      "Potential Outliers:\n",
      "Empty DataFrame\n",
      "Columns: [Mouse ID, Timepoint, Drug Regimen, Sex, Age_months, Weight (g), Tumor Volume (mm3), Metastatic Sites]\n",
      "Index: []\n",
      "\n",
      "Tumor Volume Data for Plotting:\n",
      "[19     38.982878\n",
      "24     38.939633\n",
      "61     30.485985\n",
      "64     37.074024\n",
      "66     40.159220\n",
      "80     47.685963\n",
      "83     37.311846\n",
      "85     38.125164\n",
      "87     38.753265\n",
      "108    41.483008\n",
      "115    38.846876\n",
      "121    28.430964\n",
      "124    33.329098\n",
      "162    46.539206\n",
      "163    32.377357\n",
      "169    41.581521\n",
      "174    23.343598\n",
      "180    40.728578\n",
      "183    34.455298\n",
      "192    31.023923\n",
      "204    40.658124\n",
      "208    39.952347\n",
      "220    36.041047\n",
      "226    28.484033\n",
      "239    31.896238\n",
      "Name: Tumor Volume (mm3), dtype: float64, 6      38.407618\n",
      "7      43.047543\n",
      "10     38.810366\n",
      "12     32.978522\n",
      "33     38.342008\n",
      "37     33.397653\n",
      "45     37.311236\n",
      "52     40.659006\n",
      "70     29.128472\n",
      "76     33.562402\n",
      "77     36.374510\n",
      "91     31.560470\n",
      "93     36.134852\n",
      "96     22.050126\n",
      "119    30.564625\n",
      "126    31.095335\n",
      "157    45.220869\n",
      "158    36.561652\n",
      "166    37.225650\n",
      "168    43.419381\n",
      "177    30.276232\n",
      "190    40.667713\n",
      "217    43.166373\n",
      "235    44.183451\n",
      "244    30.638696\n",
      "Name: Tumor Volume (mm3), dtype: float64, 0      67.973419\n",
      "1      65.525743\n",
      "11     57.031862\n",
      "13     66.083066\n",
      "27     72.226731\n",
      "31     36.321346\n",
      "41     60.969711\n",
      "50     62.435404\n",
      "56     60.918767\n",
      "78     67.289621\n",
      "97     66.196912\n",
      "101    62.117279\n",
      "123    47.010364\n",
      "129    60.165180\n",
      "141    55.629428\n",
      "142    45.699331\n",
      "153    54.656549\n",
      "170    55.650681\n",
      "197    46.250112\n",
      "200    54.048608\n",
      "202    51.542431\n",
      "211    50.005138\n",
      "216    58.268442\n",
      "233    67.685569\n",
      "245    62.754451\n",
      "Name: Tumor Volume (mm3), dtype: float64, 3      62.999356\n",
      "21     45.000000\n",
      "22     56.057749\n",
      "25     55.742829\n",
      "58     48.722078\n",
      "75     47.784682\n",
      "88     61.849023\n",
      "94     68.923185\n",
      "106    67.748662\n",
      "107    57.918381\n",
      "109    46.784535\n",
      "110    59.851956\n",
      "113    64.299830\n",
      "134    59.741901\n",
      "150    61.433892\n",
      "154    64.192341\n",
      "184    45.000000\n",
      "188    52.925348\n",
      "189    45.000000\n",
      "209    67.527482\n",
      "223    45.000000\n",
      "228    64.634949\n",
      "231    61.386660\n",
      "238    68.594745\n",
      "240    64.729837\n",
      "Name: Tumor Volume (mm3), dtype: float64]\n"
     ]
    }
   ],
   "source": [
    "# Put treatments into a list for for loop (and later for plot labels)\n",
    "treatments_list = ['Capomulin', 'Ramicane', 'Infubinol', 'Ceftamin']\n",
    "\n",
    "# Create empty list to fill with tumor vol data (for plotting)\n",
    "tumor_vol_data = []\n",
    "\n",
    "# Loop through each treatment in the treatments list\n",
    "for treatment in treatments_list:\n",
    "    # Subset the data for the current treatment\n",
    "    subset_data = treatments_regimen_df[treatments_regimen_df['Drug Regimen'] == treatment]\n",
    "    \n",
    "    # Calculate the IQR for the current treatment\n",
    "    q1 = subset_data['Tumor Volume (mm3)'].quantile(0.25)\n",
    "    q3 = subset_data['Tumor Volume (mm3)'].quantile(0.75)\n",
    "    iqr = q3 - q1\n",
    "    \n",
    "    # Determine potential outliers for the current treatment\n",
    "    lower_bound = q1 - 1.5 * iqr\n",
    "    upper_bound = q3 + 1.5 * iqr\n",
    "    \n",
    "    # Identify potential outliers\n",
    "    outliers = subset_data[\n",
    "        (subset_data['Tumor Volume (mm3)'] < lower_bound) |\n",
    "        (subset_data['Tumor Volume (mm3)'] > upper_bound)\n",
    "    ]\n",
    "    \n",
    "    # Display information for the current treatment\n",
    "    print(f\"\\nTreatment: {treatment}\")\n",
    "    print(f\"IQR: {iqr}\")\n",
    "    print(f\"Potential Outliers:\")\n",
    "    print(outliers)\n",
    "    \n",
    "    # Append tumor volume data for plotting\n",
    "    tumor_vol_data.append(subset_data['Tumor Volume (mm3)'])\n",
    "\n",
    "# Display the tumor volume data for plotting\n",
    "print(\"\\nTumor Volume Data for Plotting:\")\n",
    "print(tumor_vol_data)\n",
    "\n"
   ]
  },
  {
   "cell_type": "code",
   "execution_count": 24,
   "metadata": {},
   "outputs": [
    {
     "data": {
      "text/plain": [
       "Text(0, 0.5, 'Final Tumor Volume (mm3)')"
      ]
     },
     "execution_count": 24,
     "metadata": {},
     "output_type": "execute_result"
    },
    {
     "data": {
      "image/png": "[encoded data removed]",
      "text/plain": [
       "<Figure size 640x480 with 1 Axes>"
      ]
     },
     "metadata": {},
     "output_type": "display_data"
    }
   ],
   "source": [
    "# Generate a box plot that shows the distrubution of the tumor volume for each treatment group.\n",
    "plt.boxplot(tumor_vol_data, labels=treatments_list)\n",
    "plt.xlabel('Treatment')\n",
    "plt.ylabel('Final Tumor Volume (mm3)')\n"
   ]
  },
  {
   "cell_type": "markdown",
   "metadata": {},
   "source": [
    "## Line and Scatter Plots"
   ]
  },
  {
   "cell_type": "code",
   "execution_count": 25,
   "metadata": {},
   "outputs": [
    {
     "data": {
      "text/plain": [
       "Mouse ID\n",
       "b128    10\n",
       "b742    10\n",
       "x401    10\n",
       "w914    10\n",
       "v923    10\n",
       "u364    10\n",
       "t565    10\n",
       "s710    10\n",
       "s185    10\n",
       "r944    10\n",
       "r554    10\n",
       "m957    10\n",
       "m601    10\n",
       "l897    10\n",
       "l509    10\n",
       "j119    10\n",
       "i738    10\n",
       "i557    10\n",
       "g316    10\n",
       "g288    10\n",
       "y793    10\n",
       "j246     8\n",
       "f966     5\n",
       "r157     4\n",
       "w150     3\n",
       "Name: count, dtype: int64"
      ]
     },
     "execution_count": 25,
     "metadata": {},
     "output_type": "execute_result"
    }
   ],
   "source": [
    "capomulin_mice = clean_mouse_study.loc[clean_mouse_study[\"Drug Regimen\"] == \"Capomulin\"]\n",
    "capomulin_mice.value_counts(\"Mouse ID\")"
   ]
  },
  {
   "cell_type": "code",
   "execution_count": 26,
   "metadata": {},
   "outputs": [
    {
     "data": {
      "image/png": "[encoded data removed]",
      "text/plain": [
       "<Figure size 640x480 with 1 Axes>"
      ]
     },
     "metadata": {},
     "output_type": "display_data"
    }
   ],
   "source": [
    "# Choose a single mouse treated with Capomulin (replace 'm601' with the desired Mouse ID)\n",
    "selected_mouse_data = clean_mouse_study[(clean_mouse_study['Drug Regimen'] == 'Capomulin') & (clean_mouse_study['Mouse ID'] == 'b742')]\n",
    "\n",
    "# Check if the selected mouse data is not empty\n",
    "if not selected_mouse_data.empty:\n",
    "    # Plot tumor volume vs. time point\n",
    "    plt.plot(selected_mouse_data['Timepoint'], selected_mouse_data['Tumor Volume (mm3)'], marker='o', color='blue')\n",
    "\n",
    "    # Set plot labels and title\n",
    "    plt.title('Tumor Volume vs. Time Point for a Mouse with ID b742 treated with Capomulin')\n",
    "    plt.xlabel('Time Point')\n",
    "    plt.ylabel('Tumor Volume (mm3)')\n",
    "\n",
    "    # Display the plot\n",
    "    plt.show()"
   ]
  },
  {
   "cell_type": "code",
   "execution_count": 27,
   "metadata": {},
   "outputs": [
    {
     "data": {
      "image/png": "[encoded data removed]",
      "text/plain": [
       "<Figure size 640x480 with 1 Axes>"
      ]
     },
     "metadata": {},
     "output_type": "display_data"
    }
   ],
   "source": [
    "capomulin_data = clean_mouse_study[clean_mouse_study['Drug Regimen'] == 'Capomulin']\n",
    "\n",
    "# Calculate the average tumor volume for each mouse\n",
    "average_tumor_volume = capomulin_data.groupby('Mouse ID')['Tumor Volume (mm3)'].mean()\n",
    "\n",
    "# Get the corresponding mouse weight\n",
    "mouse_weight = capomulin_data.groupby('Mouse ID')['Weight (g)'].first()\n",
    "\n",
    "# Create a scatter plot\n",
    "plt.scatter(mouse_weight, average_tumor_volume, marker='o', facecolors='blue', edgecolors='black')\n",
    "\n",
    "# Set plot labels and title\n",
    "plt.title('Mouse Weight vs. Average Tumor Volume for Capomulin Regimen')\n",
    "plt.xlabel('Mouse Weight (g)')\n",
    "plt.ylabel('Average Tumor Volume (mm3)')\n",
    "\n",
    "# Display the plot\n",
    "plt.show()"
   ]
  },
  {
   "cell_type": "markdown",
   "metadata": {},
   "source": [
    "## Correlation and Regression"
   ]
  },
  {
   "cell_type": "code",
   "execution_count": null,
   "metadata": {},
   "outputs": [],
   "source": [
    "# Perform linear regression\n",
    "slope, intercept, r_value, p_value, std_err = linregress(mouse_weight, average_tumor_volume)\n",
    "\n",
    "# Plot the regression line\n",
    "regression_line = slope * mouse_weight + intercept\n",
    "plt.plot(mouse_weight, regression_line, color='red')\n",
    "\n",
    "# Display the plot\n",
    "plt.show()\n",
    "\n",
    "# Print the correlation coefficient\n",
    "print(f\"Correlation Coefficient: {r_value}\")"
   ]
  },
  {
   "cell_type": "markdown",
   "metadata": {},
   "source": []
  }
 ],
 "metadata": {
  "anaconda-cloud": {},
  "kernelspec": {
   "display_name": "Python 3 (ipykernel)",
   "language": "python",
   "name": "python3"
  },
  "language_info": {
   "codemirror_mode": {
    "name": "ipython",
    "version": 3
   },
   "file_extension": ".py",
   "mimetype": "text/x-python",
   "name": "python",
   "nbconvert_exporter": "python",
   "pygments_lexer": "ipython3",
   "version": "3.11.5"
  }
 },
 "nbformat": 4,
 "nbformat_minor": 4
}
